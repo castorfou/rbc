{
 "cells": [
  {
   "cell_type": "markdown",
   "id": "7ff0e1cb-ff03-45d9-9343-3130f97bfe81",
   "metadata": {},
   "source": [
    "# classements badmania"
   ]
  },
  {
   "cell_type": "code",
   "execution_count": 1,
   "id": "8b94ffbe-6fc4-4beb-92e2-0b02f0126441",
   "metadata": {},
   "outputs": [],
   "source": [
    "PAGE = 'https://badmania.fr/club-joueurs-2254-riom-badminton-club.html'"
   ]
  },
  {
   "cell_type": "code",
   "execution_count": 2,
   "id": "a85e2dd2-ee60-4ae5-a992-aceec526c4ac",
   "metadata": {},
   "outputs": [],
   "source": [
    "import pandas as pd\n",
    "html_tables = pd.read_html(PAGE)"
   ]
  },
  {
   "cell_type": "code",
   "execution_count": 6,
   "id": "83bf9f3e-360f-49ed-b45e-436afb5b5649",
   "metadata": {},
   "outputs": [
    {
     "data": {
      "text/html": [
       "<div>\n",
       "<style scoped>\n",
       "    .dataframe tbody tr th:only-of-type {\n",
       "        vertical-align: middle;\n",
       "    }\n",
       "\n",
       "    .dataframe tbody tr th {\n",
       "        vertical-align: top;\n",
       "    }\n",
       "\n",
       "    .dataframe thead th {\n",
       "        text-align: right;\n",
       "    }\n",
       "</style>\n",
       "<table border=\"1\" class=\"dataframe\">\n",
       "  <thead>\n",
       "    <tr style=\"text-align: right;\">\n",
       "      <th></th>\n",
       "      <th>Nom ▼▲</th>\n",
       "      <th>Nom ▼▲.1</th>\n",
       "      <th>Prénom ▼▲</th>\n",
       "      <th>Prénom ▼▲.1</th>\n",
       "      <th>Sexe</th>\n",
       "      <th>Licence</th>\n",
       "      <th>Catégorie ▼▲</th>\n",
       "      <th>Classement ▼▲</th>\n",
       "      <th>Class.</th>\n",
       "    </tr>\n",
       "  </thead>\n",
       "  <tbody>\n",
       "    <tr>\n",
       "      <th>0</th>\n",
       "      <td>ANDRAL</td>\n",
       "      <td>Anthony</td>\n",
       "      <td>ANDRAL</td>\n",
       "      <td>Anthony</td>\n",
       "      <td>NaN</td>\n",
       "      <td>7354056</td>\n",
       "      <td>Senior</td>\n",
       "      <td>P11/P10/P11</td>\n",
       "      <td>P11/P10/P11</td>\n",
       "    </tr>\n",
       "    <tr>\n",
       "      <th>1</th>\n",
       "      <td>AVARGUEZ</td>\n",
       "      <td>Eric</td>\n",
       "      <td>AVARGUEZ</td>\n",
       "      <td>Eric</td>\n",
       "      <td>NaN</td>\n",
       "      <td>6630518</td>\n",
       "      <td>Veteran 6</td>\n",
       "      <td>P11/D9/P10</td>\n",
       "      <td>P11/D9/P10</td>\n",
       "    </tr>\n",
       "    <tr>\n",
       "      <th>2</th>\n",
       "      <td>BARBIER DARDARE</td>\n",
       "      <td>Léna</td>\n",
       "      <td>BARBIER...</td>\n",
       "      <td>Léna</td>\n",
       "      <td>NaN</td>\n",
       "      <td>7454028</td>\n",
       "      <td>Minibad</td>\n",
       "      <td>-/-/-</td>\n",
       "      <td>-/-/-</td>\n",
       "    </tr>\n",
       "    <tr>\n",
       "      <th>3</th>\n",
       "      <td>BARDEL</td>\n",
       "      <td>Damien</td>\n",
       "      <td>BARDEL</td>\n",
       "      <td>Damien</td>\n",
       "      <td>NaN</td>\n",
       "      <td>7250210</td>\n",
       "      <td>Veteran 1</td>\n",
       "      <td>P12/P12/P11</td>\n",
       "      <td>P12/P12/P11</td>\n",
       "    </tr>\n",
       "    <tr>\n",
       "      <th>4</th>\n",
       "      <td>BEAUCHENE</td>\n",
       "      <td>Romain</td>\n",
       "      <td>BEAUCHENE</td>\n",
       "      <td>Romain</td>\n",
       "      <td>NaN</td>\n",
       "      <td>6936697</td>\n",
       "      <td>Veteran 1</td>\n",
       "      <td>P12/P12/P12</td>\n",
       "      <td>P12/P12/P12</td>\n",
       "    </tr>\n",
       "  </tbody>\n",
       "</table>\n",
       "</div>"
      ],
      "text/plain": [
       "            Nom ▼▲ Nom ▼▲.1   Prénom ▼▲ Prénom ▼▲.1  Sexe  Licence  \\\n",
       "0           ANDRAL  Anthony      ANDRAL     Anthony   NaN  7354056   \n",
       "1         AVARGUEZ     Eric    AVARGUEZ        Eric   NaN  6630518   \n",
       "2  BARBIER DARDARE     Léna  BARBIER...        Léna   NaN  7454028   \n",
       "3           BARDEL   Damien      BARDEL      Damien   NaN  7250210   \n",
       "4        BEAUCHENE   Romain   BEAUCHENE      Romain   NaN  6936697   \n",
       "\n",
       "  Catégorie ▼▲ Classement ▼▲       Class.  \n",
       "0       Senior   P11/P10/P11  P11/P10/P11  \n",
       "1    Veteran 6    P11/D9/P10   P11/D9/P10  \n",
       "2      Minibad         -/-/-        -/-/-  \n",
       "3    Veteran 1   P12/P12/P11  P12/P12/P11  \n",
       "4    Veteran 1   P12/P12/P12  P12/P12/P12  "
      ]
     },
     "execution_count": 6,
     "metadata": {},
     "output_type": "execute_result"
    }
   ],
   "source": [
    "df_adherents = html_tables[0]\n",
    "df_adherents.head()"
   ]
  },
  {
   "cell_type": "code",
   "execution_count": 7,
   "id": "800aceb4-5898-446c-acbb-200b586af797",
   "metadata": {},
   "outputs": [
    {
     "name": "stdout",
     "output_type": "stream",
     "text": [
      "<class 'pandas.core.frame.DataFrame'>\n",
      "RangeIndex: 96 entries, 0 to 95\n",
      "Data columns (total 9 columns):\n",
      " #   Column         Non-Null Count  Dtype  \n",
      "---  ------         --------------  -----  \n",
      " 0   Nom ▼▲         96 non-null     object \n",
      " 1   Nom ▼▲.1       96 non-null     object \n",
      " 2   Prénom ▼▲      96 non-null     object \n",
      " 3   Prénom ▼▲.1    96 non-null     object \n",
      " 4   Sexe           0 non-null      float64\n",
      " 5   Licence        96 non-null     int64  \n",
      " 6   Catégorie ▼▲   93 non-null     object \n",
      " 7   Classement ▼▲  96 non-null     object \n",
      " 8   Class.         96 non-null     object \n",
      "dtypes: float64(1), int64(1), object(7)\n",
      "memory usage: 6.9+ KB\n"
     ]
    }
   ],
   "source": [
    "df_adherents.info()"
   ]
  },
  {
   "cell_type": "markdown",
   "id": "db84ee1c-2236-4e0e-ae93-d44909039b6f",
   "metadata": {},
   "source": [
    "# get_classement"
   ]
  },
  {
   "cell_type": "code",
   "execution_count": 20,
   "id": "8483cc21-e432-4725-b44f-914c71bf1f50",
   "metadata": {},
   "outputs": [],
   "source": [
    "def get_classement(\n",
    "    license_number,# le numero de license\n",
    "):\n",
    "    return df_adherents[df_adherents['Licence'] == license_number]['Class.'].values[0]"
   ]
  },
  {
   "cell_type": "code",
   "execution_count": 21,
   "id": "694cb89b-ad8e-4559-8743-8b7ff64e5821",
   "metadata": {},
   "outputs": [
    {
     "data": {
      "text/plain": [
       "'P11/P10/P11'"
      ]
     },
     "execution_count": 21,
     "metadata": {},
     "output_type": "execute_result"
    }
   ],
   "source": [
    "get_classement(7354056)"
   ]
  },
  {
   "cell_type": "markdown",
   "id": "81e0376e-ef64-4aaf-a57f-cba46d1d10d4",
   "metadata": {},
   "source": [
    "# adherents fournis par le bureau"
   ]
  },
  {
   "cell_type": "code",
   "execution_count": 22,
   "id": "4c8ae76c-937d-4a1c-b20e-8c42ef1a44e4",
   "metadata": {},
   "outputs": [],
   "source": [
    "fichier_adherents = 'xls633be4e053e80.xlsx'"
   ]
  },
  {
   "cell_type": "code",
   "execution_count": null,
   "id": "ce14e007-a665-4784-926d-930f940be76d",
   "metadata": {},
   "outputs": [],
   "source": []
  }
 ],
 "metadata": {
  "kernelspec": {
   "display_name": "pandas",
   "language": "python",
   "name": "pandas"
  },
  "language_info": {
   "codemirror_mode": {
    "name": "ipython",
    "version": 3
   },
   "file_extension": ".py",
   "mimetype": "text/x-python",
   "name": "python",
   "nbconvert_exporter": "python",
   "pygments_lexer": "ipython3",
   "version": "3.9.13"
  }
 },
 "nbformat": 4,
 "nbformat_minor": 5
}
