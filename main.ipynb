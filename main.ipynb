{
 "cells": [
  {
   "cell_type": "code",
   "execution_count": 1,
   "id": "d46af375-5b14-4701-b589-9ab87e03b3fa",
   "metadata": {},
   "outputs": [],
   "source": [
    "#|default_exp app"
   ]
  },
  {
   "cell_type": "code",
   "execution_count": 2,
   "id": "c9c56e40-de2a-44ea-b5b5-d8cfdc9df744",
   "metadata": {},
   "outputs": [
    {
     "name": "stdout",
     "output_type": "stream",
     "text": [
      "Running on local URL:  http://127.0.0.1:7862\n",
      "\n",
      "To create a public link, set `share=True` in `launch()`.\n"
     ]
    },
    {
     "data": {
      "text/html": [
       "<div><iframe src=\"http://127.0.0.1:7862/\" width=\"900\" height=\"500\" allow=\"autoplay; camera; microphone; clipboard-read; clipboard-write;\" frameborder=\"0\" allowfullscreen></iframe></div>"
      ],
      "text/plain": [
       "<IPython.core.display.HTML object>"
      ]
     },
     "metadata": {},
     "output_type": "display_data"
    },
    {
     "data": {
      "text/plain": [
       "(<gradio.routes.App at 0x7f43ca87bfa0>, 'http://127.0.0.1:7862/', None)"
      ]
     },
     "execution_count": 2,
     "metadata": {},
     "output_type": "execute_result"
    }
   ],
   "source": [
    "#|export\n",
    "\n",
    "import gradio as gr\n",
    "import pandas as pd\n",
    "import tempfile\n",
    "from pathlib import Path\n",
    "from rbc import add_classements\n",
    "\n",
    "\n",
    "def analyse_fichier(file):\n",
    "    fichier = file[0]\n",
    "    fichier_save = Path(fichier.name).stem\n",
    "    df_adherents = pd.read_excel(fichier)\n",
    "    df_classements = add_classements(df_adherents)\n",
    "    \n",
    "    with tempfile.NamedTemporaryFile(prefix=fichier_save+'_', suffix=\".xlsx\", delete=False) as temp:\n",
    "        df_classements.to_excel(temp.name)\n",
    "        return temp.name\n",
    "\n",
    "with gr.Blocks() as classement_converter:\n",
    "    file = gr.File(label=\"Adhérents\", file_count=1)\n",
    "    greet_btn = gr.Button(\"Ajoute Classements\")\n",
    "    outputs = gr.File(label=\"Adhérents avec classement\", file_count=1, visible=True)\n",
    "    greet_btn.click(fn=analyse_fichier, inputs=file, outputs=outputs)\n",
    "\n",
    "classement_converter.launch()"
   ]
  },
  {
   "cell_type": "markdown",
   "id": "af050fd1-ade7-4f5f-88e5-ee85a1540b7b",
   "metadata": {},
   "source": [
    "# Export rbc.app.py"
   ]
  },
  {
   "cell_type": "code",
   "execution_count": 4,
   "id": "992f6f13-5903-42a4-a457-9b25372f0b10",
   "metadata": {},
   "outputs": [],
   "source": [
    "#| hide\n",
    "\n",
    "import nbdev; nbdev.export.nb_export('main.ipynb', lib_path='.')"
   ]
  },
  {
   "cell_type": "code",
   "execution_count": null,
   "id": "bd44b144-6a61-4472-8f2a-f61f69282db5",
   "metadata": {},
   "outputs": [],
   "source": []
  }
 ],
 "metadata": {
  "kernelspec": {
   "display_name": "rbc",
   "language": "python",
   "name": "rbc"
  },
  "language_info": {
   "codemirror_mode": {
    "name": "ipython",
    "version": 3
   },
   "file_extension": ".py",
   "mimetype": "text/x-python",
   "name": "python",
   "nbconvert_exporter": "python",
   "pygments_lexer": "ipython3",
   "version": "3.9.13"
  }
 },
 "nbformat": 4,
 "nbformat_minor": 5
}
